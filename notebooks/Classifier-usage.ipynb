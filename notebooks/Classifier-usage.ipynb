{
 "cells": [
  {
   "cell_type": "markdown",
   "metadata": {},
   "source": [
    "## Example usage for DaskClassifier"
   ]
  },
  {
   "cell_type": "code",
   "execution_count": 1,
   "metadata": {},
   "outputs": [],
   "source": [
    "import sys\n",
    "import os\n",
    "from pathlib import Path\n",
    "DIR = Path(\".\").absolute()\n",
    "sys.path.append(str(DIR))\n",
    "os.chdir(str(DIR.parent)) # make notebook assume its in parent dir"
   ]
  },
  {
   "cell_type": "code",
   "execution_count": 2,
   "metadata": {},
   "outputs": [],
   "source": [
    "from __future__ import print_function\n",
    "import torch\n",
    "import torch.nn as nn\n",
    "import torch.nn.functional as F\n",
    "import torch.optim as optim\n",
    "import time\n",
    "import numpy as np\n",
    "import json\n",
    "from torchvision import datasets, transforms\n",
    "from torch.optim.lr_scheduler import StepLR"
   ]
  },
  {
   "cell_type": "code",
   "execution_count": 3,
   "metadata": {},
   "outputs": [
    {
     "name": "stderr",
     "output_type": "stream",
     "text": [
      "/Users/scott/anaconda3/envs/adadamp/lib/python3.8/site-packages/distributed/node.py:151: UserWarning: Port 8787 is already in use.\n",
      "Perhaps you already have a cluster running?\n",
      "Hosting the HTTP server on port 57458 instead\n",
      "  warnings.warn(\n"
     ]
    },
    {
     "data": {
      "text/html": [
       "<table style=\"border: 2px solid white;\">\n",
       "<tr>\n",
       "<td style=\"vertical-align: top; border: 0px solid white\">\n",
       "<h3 style=\"text-align: left;\">Client</h3>\n",
       "<ul style=\"text-align: left; list-style: none; margin: 0; padding: 0;\">\n",
       "  <li><b>Scheduler: </b>inproc://10.64.32.28/60622/1</li>\n",
       "  <li><b>Dashboard: </b><a href='http://10.64.32.28:57458/status' target='_blank'>http://10.64.32.28:57458/status</a></li>\n",
       "</ul>\n",
       "</td>\n",
       "<td style=\"vertical-align: top; border: 0px solid white\">\n",
       "<h3 style=\"text-align: left;\">Cluster</h3>\n",
       "<ul style=\"text-align: left; list-style:none; margin: 0; padding: 0;\">\n",
       "  <li><b>Workers: </b>1</li>\n",
       "  <li><b>Cores: </b>8</li>\n",
       "  <li><b>Memory: </b>17.18 GB</li>\n",
       "</ul>\n",
       "</td>\n",
       "</tr>\n",
       "</table>"
      ],
      "text/plain": [
       "<Client: 'inproc://10.64.32.28/60622/1' processes=1 threads=8, memory=17.18 GB>"
      ]
     },
     "execution_count": 3,
     "metadata": {},
     "output_type": "execute_result"
    }
   ],
   "source": [
    "from dask.distributed import Client\n",
    "\n",
    "def _prep():\n",
    "    from distributed.protocol import torch\n",
    "\n",
    "client = Client(processes=False)\n",
    "client.run(_prep)\n",
    "client"
   ]
  },
  {
   "cell_type": "markdown",
   "metadata": {},
   "source": [
    "`processes=False` is a large performance increase because threads have much faster communication when a Dask Distributed client is present. At each step, the model is copied to each worker. That's almost instant with threads because the same memory bank is shared; that's not true with processes.\n",
    "\n",
    "`processes=False` should still be used with GPUs. There, the model/gradient calculation will live on each GPU."
   ]
  },
  {
   "cell_type": "code",
   "execution_count": 4,
   "metadata": {},
   "outputs": [],
   "source": [
    "%load_ext autoreload\n",
    "%autoreload 2"
   ]
  },
  {
   "cell_type": "code",
   "execution_count": 5,
   "metadata": {},
   "outputs": [],
   "source": [
    "from adadamp import DaskClassifier"
   ]
  },
  {
   "cell_type": "code",
   "execution_count": 6,
   "metadata": {},
   "outputs": [],
   "source": [
    "# model from https://github.com/pytorch/examples/blob/master/mnist/main.py\n",
    "from model import Net\n",
    "client.upload_file(\"notebooks/model.py\")"
   ]
  },
  {
   "cell_type": "code",
   "execution_count": 7,
   "metadata": {},
   "outputs": [],
   "source": [
    "from torch.utils.data import Dataset\n",
    "from dask.distributed import get_client\n",
    "\n",
    "def run(\n",
    "    model: nn.Module,\n",
    "    train_set: Dataset,\n",
    "    test_set: Dataset,\n",
    "    max_epochs: int = 5,\n",
    "):\n",
    "    client = get_client()\n",
    "    hist = []\n",
    "    epochs = 0\n",
    "    for epoch in range(max_epochs):\n",
    "        print(f\"Epoch {epoch}...\", end=\" \")\n",
    "        model.partial_fit(train_set)\n",
    "        print(\"done\")\n",
    "        model.score(test_set)  # records info in model.meta_\n",
    "        datum = {\"epoch\": epoch + 1, **model.meta_}\n",
    "        print(datum)\n",
    "        hist.append(datum)\n",
    "    return hist, model.get_params()"
   ]
  },
  {
   "cell_type": "code",
   "execution_count": 8,
   "metadata": {},
   "outputs": [],
   "source": [
    "# transforms\n",
    "transform=transforms.Compose([\n",
    "    transforms.ToTensor(),\n",
    "    transforms.Normalize((0.1307,), (0.3081,))\n",
    "])\n",
    "\n",
    "# data\n",
    "train_set = datasets.MNIST('./data', train=True, download=True, transform=transform)\n",
    "test_set = datasets.MNIST('./data', train=False, transform=transform)"
   ]
  },
  {
   "cell_type": "code",
   "execution_count": 9,
   "metadata": {},
   "outputs": [],
   "source": [
    "# model\n",
    "model = DaskClassifier(\n",
    "    module=Net,\n",
    "    weight_decay=1e-5,\n",
    "    loss=nn.CrossEntropyLoss,\n",
    "    optimizer=optim.SGD,\n",
    "    optimizer__lr=0.01,\n",
    "    optimizer__momentum=0.9,\n",
    "    batch_size=128,\n",
    ")\n"
   ]
  },
  {
   "cell_type": "code",
   "execution_count": 10,
   "metadata": {},
   "outputs": [
    {
     "name": "stdout",
     "output_type": "stream",
     "text": [
      "Epoch 0... done\n",
      "{'epoch': 1, 'n_updates': 469, 'n_data': 60032, 'score__calls': 1, 'partial_fit__calls': 1, 'partial_fit__time': 105.9611120223999, 'partial_fit__batch_size': 128, 'score__acc': 0.7397000193595886, 'score__loss': 2.7202408935546876, 'score__time': 14.996641159057617}\n",
      "Epoch 1... done\n",
      "{'epoch': 2, 'n_updates': 938, 'n_data': 120064, 'score__calls': 2, 'partial_fit__calls': 2, 'partial_fit__time': 99.81652903556824, 'partial_fit__batch_size': 128, 'score__acc': 0.7318999767303467, 'score__loss': 2.802848291015625, 'score__time': 14.40046501159668}\n",
      "Epoch 2... done\n",
      "{'epoch': 3, 'n_updates': 1407, 'n_data': 180096, 'score__calls': 3, 'partial_fit__calls': 3, 'partial_fit__time': 112.15792894363403, 'partial_fit__batch_size': 128, 'score__acc': 0.7470999956130981, 'score__loss': 2.8819994995117186, 'score__time': 13.294518947601318}\n",
      "Epoch 3... done\n",
      "{'epoch': 4, 'n_updates': 1876, 'n_data': 240128, 'score__calls': 4, 'partial_fit__calls': 4, 'partial_fit__time': 86.9377760887146, 'partial_fit__batch_size': 128, 'score__acc': 0.7378000020980835, 'score__loss': 2.9604540649414064, 'score__time': 11.663469076156616}\n",
      "Epoch 4... done\n",
      "{'epoch': 5, 'n_updates': 2345, 'n_data': 300160, 'score__calls': 5, 'partial_fit__calls': 5, 'partial_fit__time': 109.61630201339722, 'partial_fit__batch_size': 128, 'score__acc': 0.7386999726295471, 'score__loss': 3.293753271484375, 'score__time': 15.761346817016602}\n",
      "Epoch 5... done\n",
      "{'epoch': 6, 'n_updates': 2814, 'n_data': 360192, 'score__calls': 6, 'partial_fit__calls': 6, 'partial_fit__time': 103.1897349357605, 'partial_fit__batch_size': 128, 'score__acc': 0.7414000034332275, 'score__loss': 3.0618095336914064, 'score__time': 15.244282722473145}\n",
      "Epoch 6... done\n",
      "{'epoch': 7, 'n_updates': 3283, 'n_data': 420224, 'score__calls': 7, 'partial_fit__calls': 7, 'partial_fit__time': 101.99344515800476, 'partial_fit__batch_size': 128, 'score__acc': 0.7487000226974487, 'score__loss': 3.200671228027344, 'score__time': 12.383809804916382}\n",
      "Epoch 7... done\n",
      "{'epoch': 8, 'n_updates': 3752, 'n_data': 480256, 'score__calls': 8, 'partial_fit__calls': 8, 'partial_fit__time': 99.53274583816528, 'partial_fit__batch_size': 128, 'score__acc': 0.748199999332428, 'score__loss': 3.478708154296875, 'score__time': 12.85548186302185}\n",
      "Epoch 8... done\n",
      "{'epoch': 9, 'n_updates': 4221, 'n_data': 540288, 'score__calls': 9, 'partial_fit__calls': 9, 'partial_fit__time': 101.75082182884216, 'partial_fit__batch_size': 128, 'score__acc': 0.753000020980835, 'score__loss': 3.398682763671875, 'score__time': 13.492377996444702}\n",
      "Epoch 9... done\n",
      "{'epoch': 10, 'n_updates': 4690, 'n_data': 600320, 'score__calls': 10, 'partial_fit__calls': 10, 'partial_fit__time': 99.16935110092163, 'partial_fit__batch_size': 128, 'score__acc': 0.7515000104904175, 'score__loss': 3.6006671142578126, 'score__time': 14.805376052856445}\n"
     ]
    }
   ],
   "source": [
    "args = (model, train_set, test_set)\n",
    "kwargs = dict(max_epochs=10)\n",
    "hist, params = run(*args, **kwargs)"
   ]
  },
  {
   "cell_type": "code",
   "execution_count": 11,
   "metadata": {},
   "outputs": [
    {
     "data": {
      "text/plain": [
       "{'epoch': 1,\n",
       " 'n_updates': 469,\n",
       " 'n_data': 60032,\n",
       " 'score__calls': 1,\n",
       " 'partial_fit__calls': 1,\n",
       " 'partial_fit__time': 105.9611120223999,\n",
       " 'partial_fit__batch_size': 128,\n",
       " 'score__acc': 0.7397000193595886,\n",
       " 'score__loss': 2.7202408935546876,\n",
       " 'score__time': 14.996641159057617}"
      ]
     },
     "execution_count": 11,
     "metadata": {},
     "output_type": "execute_result"
    }
   ],
   "source": [
    "hist[0]"
   ]
  },
  {
   "cell_type": "code",
   "execution_count": 12,
   "metadata": {},
   "outputs": [
    {
     "name": "stdout",
     "output_type": "stream",
     "text": [
      "Avg. update time = 218ms\n"
     ]
    }
   ],
   "source": [
    "import pandas as pd\n",
    "df = pd.DataFrame(hist)\n",
    "avg_update_time = df[\"partial_fit__time\"].sum() / df[\"n_updates\"].max()\n",
    "msg = \"Avg. update time = {:0.0f}ms\".format(1000 * avg_update_time)\n",
    "print(msg)"
   ]
  },
  {
   "cell_type": "code",
   "execution_count": 13,
   "metadata": {},
   "outputs": [],
   "source": [
    "save = {\n",
    "    'history': hist,\n",
    "    'params': {k: v for k, v in params.items() if type(v) != type},\n",
    "}"
   ]
  },
  {
   "cell_type": "code",
   "execution_count": 14,
   "metadata": {},
   "outputs": [],
   "source": [
    "with open('./notebooks/stats.json', 'w') as f:\n",
    "    json.dump(save, f)"
   ]
  },
  {
   "cell_type": "code",
   "execution_count": null,
   "metadata": {},
   "outputs": [],
   "source": []
  }
 ],
 "metadata": {
  "kernelspec": {
   "display_name": "Python [conda env:adadamp]",
   "language": "python",
   "name": "conda-env-adadamp-py"
  },
  "language_info": {
   "codemirror_mode": {
    "name": "ipython",
    "version": 3
   },
   "file_extension": ".py",
   "mimetype": "text/x-python",
   "name": "python",
   "nbconvert_exporter": "python",
   "pygments_lexer": "ipython3",
   "version": "3.8.5"
  }
 },
 "nbformat": 4,
 "nbformat_minor": 4
}
