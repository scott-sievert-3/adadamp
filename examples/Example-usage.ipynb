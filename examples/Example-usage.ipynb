{
 "cells": [
  {
   "cell_type": "code",
   "execution_count": 12,
   "metadata": {},
   "outputs": [],
   "source": [
    "from adadamp import DaskBaseDamper"
   ]
  },
  {
   "cell_type": "code",
   "execution_count": 13,
   "metadata": {},
   "outputs": [],
   "source": [
    "import torch\n",
    "import torch.nn as nn\n",
    "import torch.nn.functional as F\n",
    "import torch.optim as optim"
   ]
  },
  {
   "cell_type": "markdown",
   "metadata": {},
   "source": [
    "DaskBaseDamper works with Torch dataset:"
   ]
  },
  {
   "cell_type": "code",
   "execution_count": 14,
   "metadata": {},
   "outputs": [],
   "source": [
    "class Net(nn.Module):\n",
    "    def __init__(self, n_features=20, n_outputs=1, hidden=40):\n",
    "        super(Net, self).__init__()\n",
    "\n",
    "        self.hidden = hidden\n",
    "        self.n_features = n_features\n",
    "        self.n_outputs = n_outputs\n",
    "\n",
    "        self.fc1 = nn.Linear(self.n_features, self.hidden)\n",
    "        self.fc2 = nn.Linear(self.hidden, self.n_outputs)\n",
    "\n",
    "    def forward(self, x):\n",
    "        x = x.float()  # type casting to make sure works well with sklearn\n",
    "        y = F.relu(self.fc1(x))\n",
    "        y = self.fc2(y)\n",
    "        return y"
   ]
  },
  {
   "cell_type": "code",
   "execution_count": 15,
   "metadata": {},
   "outputs": [],
   "source": [
    "from sklearn.datasets import make_regression\n",
    "X, y = make_regression(random_state=42, n_features=20, n_samples=1000, noise=1)\n",
    "X, y = X.astype(\"float32\"), y.astype(\"float32\")"
   ]
  },
  {
   "cell_type": "code",
   "execution_count": 16,
   "metadata": {},
   "outputs": [
    {
     "data": {
      "text/plain": [
       "{'module': __main__.Net,\n",
       " 'loss': torch.nn.modules.loss.MSELoss,\n",
       " 'optimizer': torch.optim.sgd.SGD,\n",
       " 'metrics': None,\n",
       " 'device': 'cpu',\n",
       " 'batch_size': 64,\n",
       " 'max_batch_size': 1024,\n",
       " 'min_workers': 1,\n",
       " 'max_workers': 8,\n",
       " 'optimizer__lr': 0.001}"
      ]
     },
     "execution_count": 16,
     "metadata": {},
     "output_type": "execute_result"
    }
   ],
   "source": [
    "X_torch = torch.from_numpy(X)\n",
    "y_torch = torch.from_numpy(y)\n",
    "dataset = torch.utils.data.TensorDataset(X_torch, y_torch)\n",
    "\n",
    "net = DaskBaseDamper(\n",
    "    module=Net, loss=nn.MSELoss, optimizer=optim.SGD, optimizer__lr=0.001, batch_size=64\n",
    ")\n",
    "net.get_params()"
   ]
  },
  {
   "cell_type": "code",
   "execution_count": 17,
   "metadata": {},
   "outputs": [],
   "source": [
    "import numpy.linalg as LA\n",
    "data = []\n",
    "for k in range(10):\n",
    "    _ = net.fit(dataset);\n",
    "    score = net.score(X, y)\n",
    "    norm = sum([LA.norm(x.detach().numpy()) for x in net.module_.parameters()])\n",
    "    datum = {\"score\": score, \"norm\": norm, **net.meta_}\n",
    "    data.append(datum)"
   ]
  },
  {
   "cell_type": "code",
   "execution_count": 18,
   "metadata": {},
   "outputs": [
    {
     "data": {
      "text/html": [
       "<div>\n",
       "<style scoped>\n",
       "    .dataframe tbody tr th:only-of-type {\n",
       "        vertical-align: middle;\n",
       "    }\n",
       "\n",
       "    .dataframe tbody tr th {\n",
       "        vertical-align: top;\n",
       "    }\n",
       "\n",
       "    .dataframe thead th {\n",
       "        text-align: right;\n",
       "    }\n",
       "</style>\n",
       "<table border=\"1\" class=\"dataframe\">\n",
       "  <thead>\n",
       "    <tr style=\"text-align: right;\">\n",
       "      <th></th>\n",
       "      <th>score</th>\n",
       "      <th>norm</th>\n",
       "      <th>n_updates</th>\n",
       "      <th>n_data</th>\n",
       "    </tr>\n",
       "  </thead>\n",
       "  <tbody>\n",
       "    <tr>\n",
       "      <th>0</th>\n",
       "      <td>10367.7810</td>\n",
       "      <td>34.772855</td>\n",
       "      <td>32</td>\n",
       "      <td>1024</td>\n",
       "    </tr>\n",
       "    <tr>\n",
       "      <th>1</th>\n",
       "      <td>8159.8070</td>\n",
       "      <td>36.117033</td>\n",
       "      <td>64</td>\n",
       "      <td>2048</td>\n",
       "    </tr>\n",
       "    <tr>\n",
       "      <th>2</th>\n",
       "      <td>7680.7505</td>\n",
       "      <td>36.401243</td>\n",
       "      <td>96</td>\n",
       "      <td>3072</td>\n",
       "    </tr>\n",
       "    <tr>\n",
       "      <th>3</th>\n",
       "      <td>7513.1670</td>\n",
       "      <td>36.492367</td>\n",
       "      <td>128</td>\n",
       "      <td>4096</td>\n",
       "    </tr>\n",
       "    <tr>\n",
       "      <th>4</th>\n",
       "      <td>7437.7005</td>\n",
       "      <td>36.529084</td>\n",
       "      <td>160</td>\n",
       "      <td>5120</td>\n",
       "    </tr>\n",
       "  </tbody>\n",
       "</table>\n",
       "</div>"
      ],
      "text/plain": [
       "        score       norm  n_updates  n_data\n",
       "0  10367.7810  34.772855         32    1024\n",
       "1   8159.8070  36.117033         64    2048\n",
       "2   7680.7505  36.401243         96    3072\n",
       "3   7513.1670  36.492367        128    4096\n",
       "4   7437.7005  36.529084        160    5120"
      ]
     },
     "execution_count": 18,
     "metadata": {},
     "output_type": "execute_result"
    }
   ],
   "source": [
    "import pandas as pd\n",
    "df = pd.DataFrame(data)\n",
    "df.head()"
   ]
  },
  {
   "cell_type": "code",
   "execution_count": 19,
   "metadata": {},
   "outputs": [
    {
     "data": {
      "text/plain": [
       "<matplotlib.axes._subplots.AxesSubplot at 0x123392430>"
      ]
     },
     "execution_count": 19,
     "metadata": {},
     "output_type": "execute_result"
    },
    {
     "data": {
      "image/png": "[encoded data removed]",
      "text/plain": [
       "<Figure size 432x288 with 1 Axes>"
      ]
     },
     "metadata": {
      "image/png": {
       "height": 264,
       "width": 388
      },
      "needs_background": "light"
     },
     "output_type": "display_data"
    }
   ],
   "source": [
    "df.plot(x=\"n_updates\", y=\"score\")"
   ]
  },
  {
   "cell_type": "code",
   "execution_count": 20,
   "metadata": {},
   "outputs": [
    {
     "data": {
      "text/plain": [
       "7346.3445"
      ]
     },
     "execution_count": 20,
     "metadata": {},
     "output_type": "execute_result"
    }
   ],
   "source": [
    "net.score(X, y)"
   ]
  },
  {
   "cell_type": "markdown",
   "metadata": {},
   "source": [
    "It also works with NumPy data:"
   ]
  },
  {
   "cell_type": "code",
   "execution_count": 21,
   "metadata": {},
   "outputs": [
    {
     "data": {
      "text/plain": [
       "<adadamp._dist.DaskBaseDamper at 0x1233e5bb0>"
      ]
     },
     "execution_count": 21,
     "metadata": {},
     "output_type": "execute_result"
    }
   ],
   "source": [
    "net = DaskBaseDamper(\n",
    "    module=Net, loss=nn.MSELoss, optimizer=optim.SGD, optimizer__lr=0.002,\n",
    ")\n",
    "net.fit(X, y)"
   ]
  },
  {
   "cell_type": "code",
   "execution_count": 22,
   "metadata": {},
   "outputs": [
    {
     "data": {
      "text/plain": [
       "8377.191"
      ]
     },
     "execution_count": 22,
     "metadata": {},
     "output_type": "execute_result"
    }
   ],
   "source": [
    "net.score(X, y)"
   ]
  },
  {
   "cell_type": "code",
   "execution_count": null,
   "metadata": {},
   "outputs": [],
   "source": []
  }
 ],
 "metadata": {
  "kernelspec": {
   "display_name": "Python [conda env:adadamp]",
   "language": "python",
   "name": "conda-env-adadamp-py"
  },
  "language_info": {
   "codemirror_mode": {
    "name": "ipython",
    "version": 3
   },
   "file_extension": ".py",
   "mimetype": "text/x-python",
   "name": "python",
   "nbconvert_exporter": "python",
   "pygments_lexer": "ipython3",
   "version": "3.8.1"
  }
 },
 "nbformat": 4,
 "nbformat_minor": 4
}
